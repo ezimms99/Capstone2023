{
 "cells": [
  {
   "cell_type": "code",
   "execution_count": 1,
   "id": "e8de1ed4-b8cc-4ba9-b662-31d92f759fdc",
   "metadata": {},
   "outputs": [],
   "source": [
    "# third cell -\n",
    "import pandas as pd\n",
    "\n",
    "weather_full = pd.read_csv(\"Weather Data.csv\", sep=\",\")"
   ]
  },
  {
   "cell_type": "code",
   "execution_count": 2,
   "id": "fd19c0b6-bb66-4dca-a325-93ece4762fda",
   "metadata": {},
   "outputs": [],
   "source": [
    "import matplotlib.pyplot as plt\n",
    "\n",
    "def plot2FeatureBinaryConfusion(data_set, feature1Label, feature2Label, targetLabel, predicted, positive=1, negative=0):\n",
    "## assumes that the target is 0/1\n",
    "\n",
    "    \n",
    "    target = data_set[targetLabel]\n",
    "    \n",
    "    # Filter with feature 1\n",
    "    feature1_positives = np.ma.masked_where(target==negative, \n",
    "                     data_set[feature1Label])\n",
    "    true_positive = np.ma.masked_where(predicted!=target, feature1_positives)\n",
    "    false_negative = np.ma.masked_where(predicted==target, feature1_positives)\n",
    "    feature1_negatives = np.ma.masked_where(target==positive, \n",
    "                     data_set[feature1Label])\n",
    "    true_negative = np.ma.masked_where(predicted!=target, feature1_negatives)\n",
    "    false_positive = np.ma.masked_where(predicted==target,feature1_negatives)\n",
    "\n",
    "   \n",
    "    feature2 = data_set[feature2Label]\n",
    "    plt.scatter(true_positive, feature2, c='green', marker='o')\n",
    "    plt.scatter(false_positive, feature2, c='red', marker='^')\n",
    "    plt.scatter(true_negative, feature2, c='blue', marker='o')\n",
    "    plt.scatter(false_negative, feature2, c='orange', marker='^')\n",
    "\n",
    "\n",
    "\n",
    "    plt.xlabel(feature1Label)\n",
    "    plt.ylabel(feature2Label)\n",
    "    plt.legend(['True Positive', 'False Positive', 'True Negative', 'False Negative'])\n",
    "    plt.show()"
   ]
  },
  {
   "cell_type": "code",
   "execution_count": 3,
   "id": "6433e03c-085d-4d3f-932b-b254cd66b949",
   "metadata": {},
   "outputs": [
    {
     "name": "stdout",
     "output_type": "stream",
     "text": [
      "Train size:  13394 Test size:  3349\n"
     ]
    }
   ],
   "source": [
    "from sklearn.model_selection import train_test_split\n",
    "train_set, test_set = train_test_split(weather_full,\n",
    "test_size=0.2, random_state=123)\n",
    "print('Train size: ', len(train_set), 'Test size: ', len(test_set))"
   ]
  },
  {
   "cell_type": "code",
   "execution_count": 10,
   "id": "9418f057-4932-4a9e-b60d-0c5c1dd575e2",
   "metadata": {},
   "outputs": [
    {
     "name": "stdout",
     "output_type": "stream",
     "text": [
      "Results for Rain and WindDirection\n",
      "Results for linear regression on training data\n",
      " Default settings\n",
      "Internal parameters:\n",
      " Bias is  19.269724522136208\n",
      " Coefficients [-0.74010754]\n",
      " Score 0.013041404720806393\n",
      "MAE is  5.045185957046814\n",
      "RMSE is  6.403077443441658\n",
      "MSE is  40.999400746711366\n",
      "R^2  0.013041404720806393\n",
      "\n",
      "Results for linear regression on test data\n",
      "MAE is  5.084932772982416\n",
      "RMSE is  6.49153002001889\n",
      "MSE is  42.13996200080644\n",
      "R^2  0.009249272243586737\n"
     ]
    }
   ],
   "source": [
    "from sklearn.linear_model import LinearRegression\n",
    "from sklearn.metrics import mean_absolute_error\n",
    "from sklearn.metrics import mean_squared_error\n",
    "from sklearn.metrics import r2_score\n",
    "import numpy as np\n",
    "\n",
    "X = train_set[['Rain']]\n",
    "y = train_set['WindDirection']\n",
    "X_test = test_set[['Rain']]\n",
    "y_test = test_set['WindDirection']\n",
    "\n",
    "lr_model = LinearRegression()\n",
    "lr_model.fit(X,y)\n",
    "\n",
    "y_pred = lr_model.predict(X)\n",
    "print('Results for Rain and WindDirection')\n",
    "print('Results for linear regression on training data')\n",
    "print(' Default settings')\n",
    "print('Internal parameters:')\n",
    "print(' Bias is ', lr_model.intercept_)\n",
    "print(' Coefficients', lr_model.coef_)\n",
    "print(' Score', lr_model.score(X,y))\n",
    "print('MAE is ', mean_absolute_error(y, y_pred))\n",
    "print('RMSE is ', np.sqrt(mean_squared_error(y, y_pred)))\n",
    "print('MSE is ', mean_squared_error(y, y_pred))\n",
    "print('R^2 ', r2_score(y,y_pred))\n",
    "\n",
    "y_test_pred = lr_model.predict(X_test)\n",
    "print()\n",
    "print('Results for linear regression on test data')\n",
    "print('MAE is ', mean_absolute_error(y_test, y_test_pred))\n",
    "print('RMSE is ', np.sqrt(mean_squared_error(y_test,\n",
    "y_test_pred)))\n",
    "print('MSE is ', mean_squared_error(y_test, y_test_pred))\n",
    "print('R^2 ', r2_score(y_test,y_test_pred))"
   ]
  },
  {
   "cell_type": "code",
   "execution_count": null,
   "id": "f13a28f4-e108-4bc6-836a-d5d950d59ccf",
   "metadata": {},
   "outputs": [],
   "source": []
  }
 ],
 "metadata": {
  "kernelspec": {
   "display_name": "Python 3 (ipykernel)",
   "language": "python",
   "name": "python3"
  },
  "language_info": {
   "codemirror_mode": {
    "name": "ipython",
    "version": 3
   },
   "file_extension": ".py",
   "mimetype": "text/x-python",
   "name": "python",
   "nbconvert_exporter": "python",
   "pygments_lexer": "ipython3",
   "version": "3.9.12"
  }
 },
 "nbformat": 4,
 "nbformat_minor": 5
}
