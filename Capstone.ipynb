{
 "cells": [
  {
   "cell_type": "code",
   "execution_count": 1,
   "id": "e8de1ed4-b8cc-4ba9-b662-31d92f759fdc",
   "metadata": {},
   "outputs": [],
   "source": [
    "# third cell -\n",
    "import pandas as pd\n",
    "\n",
    "weather_full = pd.read_csv(\"Weather Data.csv\", sep=\",\")"
   ]
  },
  {
   "cell_type": "code",
   "execution_count": 6,
   "id": "bc47a021-711f-4f05-b223-fca671ffba06",
   "metadata": {},
   "outputs": [
    {
     "name": "stdout",
     "output_type": "stream",
     "text": [
      "Index(['Rain', 'Temp', 'WindDirection', 'WindSpeed'], dtype='object')\n",
      "\n",
      "<class 'pandas.core.frame.DataFrame'>\n",
      "RangeIndex: 16743 entries, 0 to 16742\n",
      "Data columns (total 4 columns):\n",
      " #   Column         Non-Null Count  Dtype  \n",
      "---  ------         --------------  -----  \n",
      " 0   Rain           16743 non-null  float64\n",
      " 1   Temp           16743 non-null  int64  \n",
      " 2   WindDirection  16743 non-null  int64  \n",
      " 3   WindSpeed      16743 non-null  int64  \n",
      "dtypes: float64(1), int64(3)\n",
      "memory usage: 523.3 KB\n"
     ]
    },
    {
     "data": {
      "text/plain": [
       "array([[<AxesSubplot:title={'center':'Rain'}>,\n",
       "        <AxesSubplot:title={'center':'Temp'}>],\n",
       "       [<AxesSubplot:title={'center':'WindDirection'}>,\n",
       "        <AxesSubplot:title={'center':'WindSpeed'}>]], dtype=object)"
      ]
     },
     "execution_count": 6,
     "metadata": {},
     "output_type": "execute_result"
    },
    {
     "data": {
      "image/png": "[encoded data removed]",
      "text/plain": [
       "<Figure size 640x480 with 4 Axes>"
      ]
     },
     "metadata": {},
     "output_type": "display_data"
    }
   ],
   "source": [
    "import pandas as pd\n",
    "\n",
    "data_frame = pd.read_csv(\"Weather Data.csv\")\n",
    "3**10\n",
    "\n",
    "print(data_frame.keys())\n",
    "print()\n",
    "data_frame.head(n=10)\n",
    "\n",
    "data_frame.info()\n",
    "data_frame.hist(bins=30)"
   ]
  },
  {
   "cell_type": "code",
   "execution_count": 2,
   "id": "fd19c0b6-bb66-4dca-a325-93ece4762fda",
   "metadata": {},
   "outputs": [],
   "source": [
    "import matplotlib.pyplot as plt\n",
    "\n",
    "def plot2FeatureBinaryConfusion(data_set, feature1Label, feature2Label, targetLabel, predicted, positive=1, negative=0):\n",
    "## assumes that the target is 0/1\n",
    "\n",
    "    \n",
    "    target = data_set[targetLabel]\n",
    "    \n",
    "    # Filter with feature 1\n",
    "    feature1_positives = np.ma.masked_where(target==negative, \n",
    "                     data_set[feature1Label])\n",
    "    true_positive = np.ma.masked_where(predicted!=target, feature1_positives)\n",
    "    false_negative = np.ma.masked_where(predicted==target, feature1_positives)\n",
    "    feature1_negatives = np.ma.masked_where(target==positive, \n",
    "                     data_set[feature1Label])\n",
    "    true_negative = np.ma.masked_where(predicted!=target, feature1_negatives)\n",
    "    false_positive = np.ma.masked_where(predicted==target,feature1_negatives)\n",
    "\n",
    "   \n",
    "    feature2 = data_set[feature2Label]\n",
    "    plt.scatter(true_positive, feature2, c='green', marker='o')\n",
    "    plt.scatter(false_positive, feature2, c='red', marker='^')\n",
    "    plt.scatter(true_negative, feature2, c='blue', marker='o')\n",
    "    plt.scatter(false_negative, feature2, c='orange', marker='^')\n",
    "\n",
    "\n",
    "\n",
    "    plt.xlabel(feature1Label)\n",
    "    plt.ylabel(feature2Label)\n",
    "    plt.legend(['True Positive', 'False Positive', 'True Negative', 'False Negative'])\n",
    "    plt.show()"
   ]
  },
  {
   "cell_type": "code",
   "execution_count": 3,
   "id": "6433e03c-085d-4d3f-932b-b254cd66b949",
   "metadata": {},
   "outputs": [
    {
     "name": "stdout",
     "output_type": "stream",
     "text": [
      "Train size:  13394 Test size:  3349\n"
     ]
    }
   ],
   "source": [
    "from sklearn.model_selection import train_test_split\n",
    "train_set, test_set = train_test_split(weather_full,\n",
    "test_size=0.2, random_state=123)\n",
    "print('Train size: ', len(train_set), 'Test size: ', len(test_set))"
   ]
  },
  {
   "cell_type": "code",
   "execution_count": 4,
   "id": "9418f057-4932-4a9e-b60d-0c5c1dd575e2",
   "metadata": {},
   "outputs": [
    {
     "name": "stdout",
     "output_type": "stream",
     "text": [
      "Results for Rain and WindDirection\n",
      "Results for linear regression on training data\n",
      " Default settings\n",
      "Internal parameters:\n",
      " Bias is  19.269724522136208\n",
      " Coefficients [-0.74010754]\n",
      " Score 0.013041404720806393\n",
      "MAE is  5.045185957046814\n",
      "RMSE is  6.403077443441658\n",
      "MSE is  40.999400746711366\n",
      "R^2  0.013041404720806393\n",
      "\n",
      "Results for linear regression on test data\n",
      "MAE is  5.084932772982416\n",
      "RMSE is  6.49153002001889\n",
      "MSE is  42.13996200080644\n",
      "R^2  0.009249272243586737\n"
     ]
    }
   ],
   "source": [
    "from sklearn.linear_model import LinearRegression\n",
    "from sklearn.metrics import mean_absolute_error\n",
    "from sklearn.metrics import mean_squared_error\n",
    "from sklearn.metrics import r2_score\n",
    "import numpy as np\n",
    "\n",
    "X = train_set[['Rain']]\n",
    "y = train_set['WindDirection']\n",
    "X_test = test_set[['Rain']]\n",
    "y_test = test_set['WindDirection']\n",
    "\n",
    "lr_model = LinearRegression()\n",
    "lr_model.fit(X,y)\n",
    "\n",
    "y_pred = lr_model.predict(X)\n",
    "print('Results for Rain and WindDirection')\n",
    "print('Results for linear regression on training data')\n",
    "print(' Default settings')\n",
    "print('Internal parameters:')\n",
    "print(' Bias is ', lr_model.intercept_)\n",
    "print(' Coefficients', lr_model.coef_)\n",
    "print(' Score', lr_model.score(X,y))\n",
    "print('MAE is ', mean_absolute_error(y, y_pred))\n",
    "print('RMSE is ', np.sqrt(mean_squared_error(y, y_pred)))\n",
    "print('MSE is ', mean_squared_error(y, y_pred))\n",
    "print('R^2 ', r2_score(y,y_pred))\n",
    "\n",
    "y_test_pred = lr_model.predict(X_test)\n",
    "print()\n",
    "print('Results for linear regression on test data')\n",
    "print('MAE is ', mean_absolute_error(y_test, y_test_pred))\n",
    "print('RMSE is ', np.sqrt(mean_squared_error(y_test,\n",
    "y_test_pred)))\n",
    "print('MSE is ', mean_squared_error(y_test, y_test_pred))\n",
    "print('R^2 ', r2_score(y_test,y_test_pred))"
   ]
  },
  {
   "cell_type": "code",
   "execution_count": 5,
   "id": "f13a28f4-e108-4bc6-836a-d5d950d59ccf",
   "metadata": {},
   "outputs": [
    {
     "name": "stdout",
     "output_type": "stream",
     "text": [
      "Results for decision tree on training data\n",
      "  Default settings\n",
      "Confusion Matrix\n",
      "[[10  0  1 ...  0  0  0]\n",
      " [ 0  8  1 ...  0  0  0]\n",
      " [ 2  0 36 ...  0  0  0]\n",
      " ...\n",
      " [ 0  0  0 ...  0  0  0]\n",
      " [ 0  0  0 ...  0  0  0]\n",
      " [ 0  0  0 ...  0  0  0]]\n",
      "Accuracy is   0.19127967746752278\n",
      "Precision is  0.3049292608453117\n",
      "Recall is     0.19127967746752278\n",
      "F1 is         0.1605253875441205\n",
      "\n",
      "Results for decision tree on test data\n",
      "  Default settings\n",
      "Confusion Matrix\n",
      "[[  0   0   2   3  35   6   9   0   2   0   0   0   0   0   0   0   0   0\n",
      "    0   0   0   0   0   0   0   0   0   0   0   0]\n",
      " [  0   0   0   4  46  17   8   5   4   1   0   0   0   0   0   0   0   0\n",
      "    0   0   0   0   0   0   0   0   0   0   0   0]\n",
      " [  1   0   1   3 115  34  30  20   5   8   0   0   0   0   0   0   0   0\n",
      "    0   0   0   0   0   0   0   0   0   0   0   0]\n",
      " [  1   0   2   9 164  44  55  28  13   5   0   0   0   0   0   0   0   0\n",
      "    0   0   0   0   0   0   0   0   0   0   0   0]\n",
      " [  4   0   3   9 180  65  81  26  17  11   1   1   0   0   0   0   0   0\n",
      "    0   0   0   0   0   0   0   0   0   0   0   0]\n",
      " [  1   2   6  16 175  84  96  36  19   7   1   1   1   0   0   0   0   0\n",
      "    0   0   0   0   0   0   0   0   0   0   0   0]\n",
      " [  1   0   6  12 175  87  90  40  16  11   1   1   0   1   0   0   0   0\n",
      "    0   0   0   0   0   0   0   0   0   0   0   0]\n",
      " [  0   1   5  14 142  78  98  37  12   5   0   0   0   1   0   0   0   0\n",
      "    0   0   0   0   0   0   0   0   0   0   0   0]\n",
      " [  2   0   2   5 120  64  53  36  10   9   0   0   0   0   0   0   0   0\n",
      "    0   0   0   0   0   0   0   0   0   0   0   0]\n",
      " [  0   0   2   5  98  38  49  21  10   5   1   0   0   0   0   0   0   0\n",
      "    0   0   0   0   0   0   0   0   0   0   0   0]\n",
      " [  1   0   1   5  57  30  37  11   1   3   2   0   0   0   0   0   0   0\n",
      "    0   0   0   0   0   0   0   0   0   0   0   0]\n",
      " [  0   0   2   3  52  22  21   7   1   2   0   0   0   0   0   0   0   0\n",
      "    0   0   0   0   0   0   0   0   0   0   0   0]\n",
      " [  0   1   0   3  28   5  17   6   1   0   0   0   1   0   0   0   0   0\n",
      "    0   0   0   0   0   0   0   0   0   0   0   0]\n",
      " [  0   0   0   2  17  13   7   3   1   0   0   0   0   0   0   0   0   0\n",
      "    0   0   0   0   0   0   0   0   0   0   0   0]\n",
      " [  0   0   0   0  20   7   9   2   2   1   0   0   0   0   0   0   0   0\n",
      "    0   0   0   0   0   0   0   0   0   0   0   0]\n",
      " [  0   0   0   1  10   4   4   1   1   0   1   0   0   0   0   0   0   0\n",
      "    0   0   0   0   0   0   0   0   0   0   0   0]\n",
      " [  0   0   0   0   5   2   2   0   1   0   0   0   0   0   0   0   0   0\n",
      "    0   0   0   0   0   0   0   0   0   0   0   0]\n",
      " [  0   0   0   0   1   1   0   0   0   0   0   0   0   0   0   0   0   0\n",
      "    0   0   0   0   0   0   0   0   0   0   0   0]\n",
      " [  0   0   0   0   6   1   1   1   0   0   0   0   0   0   0   0   0   0\n",
      "    0   0   0   0   0   0   0   0   0   0   0   0]\n",
      " [  0   0   0   0   2   0   0   0   0   0   0   0   0   0   0   0   0   0\n",
      "    0   0   0   0   0   0   0   0   0   0   0   0]\n",
      " [  0   0   0   0   2   0   0   0   0   0   0   0   0   0   0   0   0   0\n",
      "    0   0   0   0   0   0   0   0   0   0   0   0]\n",
      " [  0   0   0   0   0   1   0   0   0   0   0   0   0   0   0   0   0   0\n",
      "    0   0   0   0   0   0   0   0   0   0   0   0]\n",
      " [  0   0   0   0   1   0   0   0   0   0   0   0   0   0   0   0   0   0\n",
      "    0   0   0   0   0   0   0   0   0   0   0   0]\n",
      " [  0   0   0   0   0   0   1   0   0   0   0   0   0   0   0   0   0   0\n",
      "    0   0   0   0   0   0   0   0   0   0   0   0]\n",
      " [  0   0   0   0   1   0   0   0   0   0   0   0   0   0   0   0   0   0\n",
      "    0   0   0   0   0   0   0   0   0   0   0   0]\n",
      " [  0   0   0   0   2   0   0   0   0   0   0   0   0   0   0   0   0   0\n",
      "    0   0   0   0   0   0   0   0   0   0   0   0]\n",
      " [  0   0   0   0   1   0   0   0   0   0   0   0   0   0   0   0   0   0\n",
      "    0   0   0   0   0   0   0   0   0   0   0   0]\n",
      " [  0   0   0   0   0   1   0   0   0   0   0   0   0   0   0   0   0   0\n",
      "    0   0   0   0   0   0   0   0   0   0   0   0]\n",
      " [  0   0   0   0   2   0   0   0   0   0   0   0   0   0   0   0   0   0\n",
      "    0   0   0   0   0   0   0   0   0   0   0   0]\n",
      " [  0   0   0   0   0   1   0   0   0   0   0   0   0   0   0   0   0   0\n",
      "    0   0   0   0   0   0   0   0   0   0   0   0]]\n",
      "Accuracy is   0.12511197372349955\n",
      "Precision is  0.11223961747029182\n",
      "Recall is     0.12511197372349955\n",
      "F1 is         0.09160942927697875\n"
     ]
    },
    {
     "name": "stderr",
     "output_type": "stream",
     "text": [
      "C:\\Users\\ezimm\\miniconda3\\lib\\site-packages\\sklearn\\metrics\\_classification.py:1334: UndefinedMetricWarning: Precision is ill-defined and being set to 0.0 in labels with no predicted samples. Use `zero_division` parameter to control this behavior.\n",
      "  _warn_prf(average, modifier, msg_start, len(result))\n",
      "C:\\Users\\ezimm\\miniconda3\\lib\\site-packages\\sklearn\\metrics\\_classification.py:1334: UndefinedMetricWarning: Precision is ill-defined and being set to 0.0 in labels with no predicted samples. Use `zero_division` parameter to control this behavior.\n",
      "  _warn_prf(average, modifier, msg_start, len(result))\n"
     ]
    }
   ],
   "source": [
    "from sklearn.tree import DecisionTreeClassifier\n",
    "from sklearn.metrics import confusion_matrix\n",
    "from sklearn.metrics import accuracy_score, f1_score\n",
    "from sklearn.metrics import precision_score, recall_score\n",
    "  \n",
    "X = train_set[['Rain']]\n",
    "y = train_set['WindSpeed']\n",
    "X_test = test_set[['Rain']]\n",
    "y_test = test_set['WindSpeed']\n",
    "\n",
    "tree_model = DecisionTreeClassifier()\n",
    "tree_model.fit(X,y)\n",
    "\n",
    "y_pred = tree_model.predict(X)\n",
    "print('Results for decision tree on training data')\n",
    "print('  Default settings')\n",
    "print(\"Confusion Matrix\")\n",
    "print(confusion_matrix(y, y_pred))\n",
    "print('Accuracy is  ', accuracy_score(y, y_pred))\n",
    "print('Precision is ', precision_score(y, y_pred, average='weighted'))\n",
    "print('Recall is    ', recall_score(y,y_pred, average='weighted'))\n",
    "print('F1 is        ', f1_score(y, y_pred, average='weighted'))\n",
    "print()\n",
    "\n",
    "y_test_pred = tree_model.predict(X_test)\n",
    "print('Results for decision tree on test data')\n",
    "print('  Default settings')\n",
    "print(\"Confusion Matrix\")\n",
    "print(confusion_matrix(y_test, y_test_pred))\n",
    "print('Accuracy is  ', accuracy_score(y_test, y_test_pred))\n",
    "print('Precision is ', precision_score(y_test, y_test_pred, average='weighted'))\n",
    "print('Recall is    ', recall_score(y_test,y_test_pred, average='weighted'))\n",
    "print('F1 is        ', f1_score(y_test, y_test_pred, average='weighted'))"
   ]
  },
  {
   "cell_type": "code",
   "execution_count": null,
   "id": "30569ebd-a803-43b4-bde3-7843d5306525",
   "metadata": {},
   "outputs": [],
   "source": []
  }
 ],
 "metadata": {
  "kernelspec": {
   "display_name": "Python 3 (ipykernel)",
   "language": "python",
   "name": "python3"
  },
  "language_info": {
   "codemirror_mode": {
    "name": "ipython",
    "version": 3
   },
   "file_extension": ".py",
   "mimetype": "text/x-python",
   "name": "python",
   "nbconvert_exporter": "python",
   "pygments_lexer": "ipython3",
   "version": "3.9.12"
  }
 },
 "nbformat": 4,
 "nbformat_minor": 5
}
